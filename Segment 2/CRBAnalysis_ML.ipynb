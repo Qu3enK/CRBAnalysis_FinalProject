{
 "cells": [
  {
   "cell_type": "code",
   "execution_count": 84,
   "id": "73a846f2",
   "metadata": {},
   "outputs": [],
   "source": [
    "import pandas as pd\n",
    "from sklearn.preprocessing import MinMaxScaler, LabelEncoder\n",
    "# Import the KMeans module and matplotlib\n",
    "from sklearn.cluster import KMeans\n",
    "from matplotlib import pyplot as plt"
   ]
  },
  {
   "cell_type": "code",
   "execution_count": 85,
   "id": "a6544304",
   "metadata": {},
   "outputs": [
    {
     "data": {
      "text/html": [
       "<div>\n",
       "<style scoped>\n",
       "    .dataframe tbody tr th:only-of-type {\n",
       "        vertical-align: middle;\n",
       "    }\n",
       "\n",
       "    .dataframe tbody tr th {\n",
       "        vertical-align: top;\n",
       "    }\n",
       "\n",
       "    .dataframe thead th {\n",
       "        text-align: right;\n",
       "    }\n",
       "</style>\n",
       "<table border=\"1\" class=\"dataframe\">\n",
       "  <thead>\n",
       "    <tr style=\"text-align: right;\">\n",
       "      <th></th>\n",
       "      <th>year</th>\n",
       "      <th>month</th>\n",
       "      <th>Powell_Storage</th>\n",
       "      <th>Mead_Storage</th>\n",
       "      <th>month_name</th>\n",
       "      <th>None</th>\n",
       "      <th>D0</th>\n",
       "      <th>D1</th>\n",
       "      <th>D2</th>\n",
       "      <th>D3</th>\n",
       "      <th>D4</th>\n",
       "      <th>D_Combined</th>\n",
       "      <th>AvgSWE</th>\n",
       "      <th>D_Outcome</th>\n",
       "    </tr>\n",
       "  </thead>\n",
       "  <tbody>\n",
       "    <tr>\n",
       "      <th>0</th>\n",
       "      <td>2002</td>\n",
       "      <td>1</td>\n",
       "      <td>1.775090e+07</td>\n",
       "      <td>1.984785e+07</td>\n",
       "      <td>Jan</td>\n",
       "      <td>35.0060</td>\n",
       "      <td>52.1360</td>\n",
       "      <td>8.5080</td>\n",
       "      <td>2.4480</td>\n",
       "      <td>1.9060</td>\n",
       "      <td>0.00</td>\n",
       "      <td>4.3540</td>\n",
       "      <td>6.158065</td>\n",
       "      <td>0</td>\n",
       "    </tr>\n",
       "    <tr>\n",
       "      <th>1</th>\n",
       "      <td>2002</td>\n",
       "      <td>2</td>\n",
       "      <td>1.734078e+07</td>\n",
       "      <td>1.981329e+07</td>\n",
       "      <td>Feb</td>\n",
       "      <td>7.5325</td>\n",
       "      <td>54.4575</td>\n",
       "      <td>33.4275</td>\n",
       "      <td>3.3875</td>\n",
       "      <td>1.1975</td>\n",
       "      <td>0.00</td>\n",
       "      <td>4.5850</td>\n",
       "      <td>7.903571</td>\n",
       "      <td>0</td>\n",
       "    </tr>\n",
       "    <tr>\n",
       "      <th>2</th>\n",
       "      <td>2002</td>\n",
       "      <td>3</td>\n",
       "      <td>1.704551e+07</td>\n",
       "      <td>1.939354e+07</td>\n",
       "      <td>Mar</td>\n",
       "      <td>0.0000</td>\n",
       "      <td>25.6375</td>\n",
       "      <td>53.3625</td>\n",
       "      <td>20.1600</td>\n",
       "      <td>0.8375</td>\n",
       "      <td>0.00</td>\n",
       "      <td>20.9975</td>\n",
       "      <td>10.651613</td>\n",
       "      <td>0</td>\n",
       "    </tr>\n",
       "    <tr>\n",
       "      <th>3</th>\n",
       "      <td>2002</td>\n",
       "      <td>4</td>\n",
       "      <td>1.681885e+07</td>\n",
       "      <td>1.883230e+07</td>\n",
       "      <td>Apr</td>\n",
       "      <td>0.0000</td>\n",
       "      <td>9.5640</td>\n",
       "      <td>20.7720</td>\n",
       "      <td>60.3440</td>\n",
       "      <td>9.3180</td>\n",
       "      <td>0.00</td>\n",
       "      <td>69.6620</td>\n",
       "      <td>7.890000</td>\n",
       "      <td>1</td>\n",
       "    </tr>\n",
       "    <tr>\n",
       "      <th>4</th>\n",
       "      <td>2002</td>\n",
       "      <td>5</td>\n",
       "      <td>1.658646e+07</td>\n",
       "      <td>1.824094e+07</td>\n",
       "      <td>May</td>\n",
       "      <td>0.0000</td>\n",
       "      <td>4.5350</td>\n",
       "      <td>5.7325</td>\n",
       "      <td>36.1575</td>\n",
       "      <td>49.7950</td>\n",
       "      <td>3.78</td>\n",
       "      <td>89.7325</td>\n",
       "      <td>1.532258</td>\n",
       "      <td>1</td>\n",
       "    </tr>\n",
       "  </tbody>\n",
       "</table>\n",
       "</div>"
      ],
      "text/plain": [
       "   year  month  Powell_Storage  Mead_Storage month_name     None       D0  \\\n",
       "0  2002      1    1.775090e+07  1.984785e+07        Jan  35.0060  52.1360   \n",
       "1  2002      2    1.734078e+07  1.981329e+07        Feb   7.5325  54.4575   \n",
       "2  2002      3    1.704551e+07  1.939354e+07        Mar   0.0000  25.6375   \n",
       "3  2002      4    1.681885e+07  1.883230e+07        Apr   0.0000   9.5640   \n",
       "4  2002      5    1.658646e+07  1.824094e+07        May   0.0000   4.5350   \n",
       "\n",
       "        D1       D2       D3    D4  D_Combined     AvgSWE  D_Outcome  \n",
       "0   8.5080   2.4480   1.9060  0.00      4.3540   6.158065          0  \n",
       "1  33.4275   3.3875   1.1975  0.00      4.5850   7.903571          0  \n",
       "2  53.3625  20.1600   0.8375  0.00     20.9975  10.651613          0  \n",
       "3  20.7720  60.3440   9.3180  0.00     69.6620   7.890000          1  \n",
       "4   5.7325  36.1575  49.7950  3.78     89.7325   1.532258          1  "
      ]
     },
     "execution_count": 85,
     "metadata": {},
     "output_type": "execute_result"
    }
   ],
   "source": [
    "CRB_df = pd.read_csv('CRB_merged.csv')\n",
    "CRB_df.head()"
   ]
  },
  {
   "cell_type": "code",
   "execution_count": 86,
   "id": "799098f7",
   "metadata": {},
   "outputs": [],
   "source": [
    "import os"
   ]
  },
  {
   "cell_type": "code",
   "execution_count": 87,
   "id": "258d1516",
   "metadata": {},
   "outputs": [],
   "source": [
    "%matplotlib inline\n",
    "import matplotlib.pyplot as plt"
   ]
  },
  {
   "cell_type": "code",
   "execution_count": 88,
   "id": "d2ed6de5",
   "metadata": {},
   "outputs": [
    {
     "name": "stdout",
     "output_type": "stream",
     "text": [
      "Shape:  (252, 3) (252,)\n"
     ]
    }
   ],
   "source": [
    "# Assign the data to X and y\n",
    "# Note: Sklearn requires a two-dimensional array of values\n",
    "# so we use reshape() to create this\n",
    "\n",
    "X = merged3_df[['Powell_Storage','Mead_Storage','AvgSWE']]\n",
    "y = merged3_df['D_Outcome']\n",
    "\n",
    "print(\"Shape: \", X.shape, y.shape)"
   ]
  },
  {
   "cell_type": "code",
   "execution_count": 89,
   "id": "02c14bc2",
   "metadata": {},
   "outputs": [],
   "source": [
    "from sklearn.model_selection import train_test_split\n",
    "\n",
    "X_train, X_test, y_train, y_test = train_test_split(X, y, random_state=1)"
   ]
  },
  {
   "cell_type": "code",
   "execution_count": 90,
   "id": "d325fb7e",
   "metadata": {},
   "outputs": [
    {
     "data": {
      "text/plain": [
       "LogisticRegression()"
      ]
     },
     "execution_count": 90,
     "metadata": {},
     "output_type": "execute_result"
    }
   ],
   "source": [
    "from sklearn.linear_model import LogisticRegression\n",
    "classifier = LogisticRegression()\n",
    "classifier"
   ]
  },
  {
   "cell_type": "code",
   "execution_count": 91,
   "id": "9bb493b1",
   "metadata": {},
   "outputs": [
    {
     "data": {
      "text/plain": [
       "LogisticRegression()"
      ]
     },
     "execution_count": 91,
     "metadata": {},
     "output_type": "execute_result"
    }
   ],
   "source": [
    "classifier.fit(X_train, y_train)"
   ]
  },
  {
   "cell_type": "code",
   "execution_count": 92,
   "id": "e10266ca",
   "metadata": {},
   "outputs": [
    {
     "name": "stdout",
     "output_type": "stream",
     "text": [
      "Training Data Score: 0.6825396825396826\n",
      "Testing Data Score: 0.6984126984126984\n"
     ]
    }
   ],
   "source": [
    "print(f\"Training Data Score: {classifier.score(X_train, y_train)}\")\n",
    "print(f\"Testing Data Score: {classifier.score(X_test, y_test)}\")"
   ]
  },
  {
   "cell_type": "code",
   "execution_count": 93,
   "id": "37ab5fcc",
   "metadata": {},
   "outputs": [
    {
     "data": {
      "text/html": [
       "<div>\n",
       "<style scoped>\n",
       "    .dataframe tbody tr th:only-of-type {\n",
       "        vertical-align: middle;\n",
       "    }\n",
       "\n",
       "    .dataframe tbody tr th {\n",
       "        vertical-align: top;\n",
       "    }\n",
       "\n",
       "    .dataframe thead th {\n",
       "        text-align: right;\n",
       "    }\n",
       "</style>\n",
       "<table border=\"1\" class=\"dataframe\">\n",
       "  <thead>\n",
       "    <tr style=\"text-align: right;\">\n",
       "      <th></th>\n",
       "      <th>Prediction</th>\n",
       "      <th>Actual</th>\n",
       "    </tr>\n",
       "  </thead>\n",
       "  <tbody>\n",
       "    <tr>\n",
       "      <th>0</th>\n",
       "      <td>0</td>\n",
       "      <td>1</td>\n",
       "    </tr>\n",
       "    <tr>\n",
       "      <th>1</th>\n",
       "      <td>1</td>\n",
       "      <td>0</td>\n",
       "    </tr>\n",
       "    <tr>\n",
       "      <th>2</th>\n",
       "      <td>0</td>\n",
       "      <td>1</td>\n",
       "    </tr>\n",
       "    <tr>\n",
       "      <th>3</th>\n",
       "      <td>0</td>\n",
       "      <td>0</td>\n",
       "    </tr>\n",
       "    <tr>\n",
       "      <th>4</th>\n",
       "      <td>0</td>\n",
       "      <td>0</td>\n",
       "    </tr>\n",
       "    <tr>\n",
       "      <th>5</th>\n",
       "      <td>0</td>\n",
       "      <td>1</td>\n",
       "    </tr>\n",
       "    <tr>\n",
       "      <th>6</th>\n",
       "      <td>0</td>\n",
       "      <td>0</td>\n",
       "    </tr>\n",
       "    <tr>\n",
       "      <th>7</th>\n",
       "      <td>1</td>\n",
       "      <td>0</td>\n",
       "    </tr>\n",
       "    <tr>\n",
       "      <th>8</th>\n",
       "      <td>0</td>\n",
       "      <td>0</td>\n",
       "    </tr>\n",
       "    <tr>\n",
       "      <th>9</th>\n",
       "      <td>0</td>\n",
       "      <td>1</td>\n",
       "    </tr>\n",
       "    <tr>\n",
       "      <th>10</th>\n",
       "      <td>1</td>\n",
       "      <td>1</td>\n",
       "    </tr>\n",
       "    <tr>\n",
       "      <th>11</th>\n",
       "      <td>0</td>\n",
       "      <td>0</td>\n",
       "    </tr>\n",
       "    <tr>\n",
       "      <th>12</th>\n",
       "      <td>0</td>\n",
       "      <td>0</td>\n",
       "    </tr>\n",
       "    <tr>\n",
       "      <th>13</th>\n",
       "      <td>0</td>\n",
       "      <td>0</td>\n",
       "    </tr>\n",
       "    <tr>\n",
       "      <th>14</th>\n",
       "      <td>0</td>\n",
       "      <td>1</td>\n",
       "    </tr>\n",
       "    <tr>\n",
       "      <th>15</th>\n",
       "      <td>0</td>\n",
       "      <td>0</td>\n",
       "    </tr>\n",
       "    <tr>\n",
       "      <th>16</th>\n",
       "      <td>0</td>\n",
       "      <td>0</td>\n",
       "    </tr>\n",
       "    <tr>\n",
       "      <th>17</th>\n",
       "      <td>1</td>\n",
       "      <td>0</td>\n",
       "    </tr>\n",
       "    <tr>\n",
       "      <th>18</th>\n",
       "      <td>1</td>\n",
       "      <td>1</td>\n",
       "    </tr>\n",
       "    <tr>\n",
       "      <th>19</th>\n",
       "      <td>0</td>\n",
       "      <td>0</td>\n",
       "    </tr>\n",
       "  </tbody>\n",
       "</table>\n",
       "</div>"
      ],
      "text/plain": [
       "    Prediction  Actual\n",
       "0            0       1\n",
       "1            1       0\n",
       "2            0       1\n",
       "3            0       0\n",
       "4            0       0\n",
       "5            0       1\n",
       "6            0       0\n",
       "7            1       0\n",
       "8            0       0\n",
       "9            0       1\n",
       "10           1       1\n",
       "11           0       0\n",
       "12           0       0\n",
       "13           0       0\n",
       "14           0       1\n",
       "15           0       0\n",
       "16           0       0\n",
       "17           1       0\n",
       "18           1       1\n",
       "19           0       0"
      ]
     },
     "execution_count": 93,
     "metadata": {},
     "output_type": "execute_result"
    }
   ],
   "source": [
    "y_pred = classifier.predict(X_test)\n",
    "results = pd.DataFrame({\"Prediction\": y_pred, \"Actual\": y_test}).reset_index(drop=True)\n",
    "results.head(20)"
   ]
  },
  {
   "cell_type": "code",
   "execution_count": 94,
   "id": "a90c3300",
   "metadata": {},
   "outputs": [
    {
     "name": "stdout",
     "output_type": "stream",
     "text": [
      "0.6984126984126984\n"
     ]
    }
   ],
   "source": [
    "from sklearn.metrics import accuracy_score\n",
    "print(accuracy_score(y_test, y_pred))"
   ]
  },
  {
   "cell_type": "code",
   "execution_count": 95,
   "id": "acdb7538",
   "metadata": {},
   "outputs": [],
   "source": [
    "from sklearn.metrics import confusion_matrix, classification_report"
   ]
  },
  {
   "cell_type": "code",
   "execution_count": 96,
   "id": "f7ba76e7",
   "metadata": {},
   "outputs": [
    {
     "name": "stdout",
     "output_type": "stream",
     "text": [
      "[[33  6]\n",
      " [13 11]]\n"
     ]
    }
   ],
   "source": [
    "matrix = confusion_matrix(y_test, y_pred)\n",
    "print(matrix)"
   ]
  },
  {
   "cell_type": "code",
   "execution_count": 97,
   "id": "817e26c5",
   "metadata": {},
   "outputs": [
    {
     "name": "stdout",
     "output_type": "stream",
     "text": [
      "              precision    recall  f1-score   support\n",
      "\n",
      "           0       0.72      0.85      0.78        39\n",
      "           1       0.65      0.46      0.54        24\n",
      "\n",
      "    accuracy                           0.70        63\n",
      "   macro avg       0.68      0.65      0.66        63\n",
      "weighted avg       0.69      0.70      0.69        63\n",
      "\n"
     ]
    }
   ],
   "source": [
    "report = classification_report(y_test, y_pred)\n",
    "print(report)"
   ]
  },
  {
   "cell_type": "code",
   "execution_count": null,
   "id": "72e2f52f",
   "metadata": {},
   "outputs": [],
   "source": []
  }
 ],
 "metadata": {
  "kernelspec": {
   "display_name": "mlenv",
   "language": "python",
   "name": "mlenv"
  },
  "language_info": {
   "codemirror_mode": {
    "name": "ipython",
    "version": 3
   },
   "file_extension": ".py",
   "mimetype": "text/x-python",
   "name": "python",
   "nbconvert_exporter": "python",
   "pygments_lexer": "ipython3",
   "version": "3.7.13"
  }
 },
 "nbformat": 4,
 "nbformat_minor": 5
}
